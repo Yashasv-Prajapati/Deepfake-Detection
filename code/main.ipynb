{
  "cells": [
    {
      "cell_type": "markdown",
      "source": [
        "LIBRARIES"
      ],
      "metadata": {
        "id": "o975t18O79Pc"
      }
    },
    {
      "cell_type": "code",
      "execution_count": null,
      "metadata": {
        "id": "lGVM7Br1yGks"
      },
      "outputs": [],
      "source": [
        "import tensorflow as tf\n",
        "import numpy as np\n",
        "import tensorflow_datasets as tfds\n",
        "import glob\n",
        "import cv2\n",
        "import matplotlib.pyplot as plt\n",
        "import os\n",
        "from tensorflow.keras.callbacks import ModelCheckpoint, EarlyStopping "
      ]
    },
    {
      "cell_type": "code",
      "execution_count": null,
      "metadata": {
        "id": "1spWtWeN3cQf"
      },
      "outputs": [],
      "source": [
        "from google.colab import drive\n",
        "drive.mount('/content/drive')"
      ]
    },
    {
      "cell_type": "markdown",
      "source": [
        "DATASET"
      ],
      "metadata": {
        "id": "hB6i96fI7Tz0"
      }
    },
    {
      "cell_type": "code",
      "source": [
        "!wget -P 'content/drive/MyDrive/Deepfake/Dataset' https://iplab.dmi.unict.it/deepfakechallenge/training/0-CelebA.zip\n",
        "!wget -P 'content/drive/MyDrive/Deepfake/Dataset' https://iplab.dmi.unict.it/deepfakechallenge/training/0-FFHQ.zip\n",
        "!wget -P 'content/drive/MyDrive/Deepfake/Dataset' https://iplab.dmi.unict.it/deepfakechallenge/training/1-ATTGAN.zip\n",
        "!wget -P 'content/drive/MyDrive/Deepfake/Dataset' https://iplab.dmi.unict.it/deepfakechallenge/portion/1-STARGAN.zip\n",
        "!wget -P 'content/drive/MyDrive/Deepfake/Dataset' https://iplab.dmi.unict.it/deepfakechallenge/portion/1-STYLEGAN.zip\n",
        "!wget -P 'content/drive/MyDrive/Deepfake/Dataset' https://iplab.dmi.unict.it/deepfakechallenge/portion/1-STYLEGAN2.zip\n",
        "!wget -P 'content/drive/MyDrive/Deepfake/Dataset' https://iplab.dmi.unict.it/deepfakechallenge/test/test-task1.zip"
      ],
      "metadata": {
        "id": "FvZlXsPT487i"
      },
      "execution_count": null,
      "outputs": []
    },
    {
      "cell_type": "code",
      "execution_count": null,
      "metadata": {
        "id": "CnsS7P-7GUgW"
      },
      "outputs": [],
      "source": [
        "!rm -r '/content/sample_data/1-StarGAN' '/content/sample_data/0-CelebA' '/content/sample_data/0-FFHQ' '/content/sample_data/1-STYLEGAN' '/content/sample_data/1-STYLEGAN2' '/content/sample_data/test-task1'"
      ]
    },
    {
      "cell_type": "code",
      "execution_count": null,
      "metadata": {
        "id": "XGSLr1H465Le"
      },
      "outputs": [],
      "source": [
        "!unzip -uq \"/content/drive/MyDrive/Deepfake/Dataset/0-CelebA.zip\" -d \"/content/sample_data/\"\n",
        "!unzip -uq \"/content/drive/MyDrive/Deepfake/Dataset/0-FFHQ.zip\" -d \"/content/sample_data/\""
      ]
    },
    {
      "cell_type": "code",
      "execution_count": null,
      "metadata": {
        "id": "8t7ht9GP2WSI"
      },
      "outputs": [],
      "source": [
        "!unzip -uq \"/content/drive/MyDrive/Deepfake/Dataset/1-ATTGAN.zip\" -d \"/content/sample_data/\"\n",
        "!unzip -uq \"/content/drive/MyDrive/Deepfake/Dataset/1-STARGAN.zip\" -d \"/content/sample_data/\"\n",
        "!unzip -uq \"/content/drive/MyDrive/Deepfake/Dataset/1-STYLEGAN2.zip\" -d \"/content/sample_data/\"\n",
        "!unzip -uq \"/content/drive/MyDrive/Deepfake/Dataset/1-STYLEGAN.zip\" -d \"/content/sample_data/\"\n"
      ]
    },
    {
      "cell_type": "code",
      "source": [
        "!unzip -uq \"/content/drive/MyDrive/Deepfake/Dataset/test-task1.zip\" -d \"/content/sample_data/\""
      ],
      "metadata": {
        "id": "F8CmPmJ5xsu_"
      },
      "execution_count": null,
      "outputs": []
    },
    {
      "cell_type": "code",
      "execution_count": null,
      "metadata": {
        "id": "lqRqVxoZUy_w"
      },
      "outputs": [],
      "source": [
        "!mkdir '/content/sample_data/train'\n",
        "!mv '/content/sample_data/0-CelebA' '/content/sample_data/train/real'\n",
        "!mv '/content/sample_data/0-FFHQ' '/content/sample_data/train/real'\n",
        "!mv '/content/sample_data/1-STARGAN' '/content/sample_data/train/fake' \n",
        "!mv '/content/sample_data/1-STYLEGAN' '/content/sample_data/train/fake' \n",
        "!mv '/content/sample_data/1-STYLEGAN2' '/content/sample_data/train/fake' \n",
        "!mv '/content/sample_data/1-ATTGAN' '/content/sample_data/train/fake' "
      ]
    },
    {
      "cell_type": "code",
      "execution_count": null,
      "metadata": {
        "id": "faCOW6RIr5AF"
      },
      "outputs": [],
      "source": [
        "# moving test data to 2 folders for labelling\n",
        "!wget \"/content/sample_data/\" https://iplab.dmi.unict.it/deepfakechallenge/test/label-task1.txt\n",
        "\n"
      ]
    },
    {
      "cell_type": "code",
      "execution_count": null,
      "metadata": {
        "id": "VpmW7f6TtnZ8"
      },
      "outputs": [],
      "source": [
        "Labels = []\n",
        "\n",
        "f = open('/content/label-task1.txt')\n",
        "for line in f:\n",
        "  Labels.append(int(line[-2]))\n"
      ]
    },
    {
      "cell_type": "markdown",
      "source": [
        "CODE IMPLEMENTATION"
      ],
      "metadata": {
        "id": "CzYhdRSZ7uyS"
      }
    },
    {
      "cell_type": "code",
      "execution_count": null,
      "metadata": {
        "id": "lnvvzTAd5Q2z"
      },
      "outputs": [],
      "source": [
        "\n",
        "ds = tf.keras.utils.image_dataset_from_directory(\n",
        "    '/content/sample_data/train',\n",
        "    labels='inferred',\n",
        "    label_mode='binary',\n",
        "    class_names=None,\n",
        "    color_mode='rgb',\n",
        "    batch_size=128,\n",
        "    image_size=(256, 256),\n",
        "    shuffle=True,\n",
        "    seed=None,\n",
        "    validation_split=None,\n",
        "    subset=None,\n",
        "    interpolation='bilinear',\n",
        "    follow_links=False,\n",
        "    crop_to_aspect_ratio=False\n",
        ")\n",
        "\n",
        "total = len(ds)\n",
        "\n",
        "train_ds = ds.take(int(total*0.8))\n",
        "val_ds = ds.skip(int(total*0.2))\n"
      ]
    },
    {
      "cell_type": "code",
      "execution_count": null,
      "metadata": {
        "id": "9e_3AloZhDr8"
      },
      "outputs": [],
      "source": [
        "IMG_SIZE = 256\n",
        "\n",
        "resize_and_rescale = tf.keras.Sequential([\n",
        "  tf.keras.layers.Resizing(IMG_SIZE, IMG_SIZE),\n",
        "  tf.keras.layers.Rescaling(1./255)\n",
        "])"
      ]
    },
    {
      "cell_type": "code",
      "execution_count": null,
      "metadata": {
        "id": "AbJQtmAZhEzE"
      },
      "outputs": [],
      "source": [
        "data_augmentation = tf.keras.Sequential([\n",
        "  tf.keras.layers.RandomFlip(\"horizontal_and_vertical\"),\n",
        "  tf.keras.layers.RandomRotation(1),\n",
        "])"
      ]
    },
    {
      "cell_type": "code",
      "execution_count": null,
      "metadata": {
        "id": "08kDKeklXytU"
      },
      "outputs": [],
      "source": [
        "test_ds = tf.keras.utils.image_dataset_from_directory(\n",
        "    '/content/sample_data/test-task1',\n",
        "    labels=Labels,\n",
        "    label_mode='binary',\n",
        "    class_names=None,\n",
        "    color_mode='rgb',\n",
        "    batch_size=128,\n",
        "    image_size=(256, 256),\n",
        "    shuffle=True,\n",
        "    seed=None,\n",
        "    validation_split=None,\n",
        "    subset=None,\n",
        "    interpolation='bilinear',\n",
        "    follow_links=False,\n",
        "    crop_to_aspect_ratio=False\n",
        ")\n"
      ]
    },
    {
      "cell_type": "code",
      "execution_count": null,
      "metadata": {
        "id": "MeYntJPB0CEa"
      },
      "outputs": [],
      "source": [
        "history=None\n",
        "strategy = tf.distribute.OneDeviceStrategy(device=\"/gpu:0\")\n",
        "with strategy.scope():\n",
        "  # build and compile your Keras model here\n",
        "  model = tf.keras.Sequential([\n",
        "    resize_and_rescale,\n",
        "    data_augmentation,\n",
        "    tf.keras.layers.Conv2D(\n",
        "        32, (3, 3), padding='same', activation='relu'),\n",
        "    tf.keras.layers.MaxPooling2D((2, 2)),\n",
        "    tf.keras.layers.Dropout(rate=0.5),\n",
        "    tf.keras.layers.Conv2D(\n",
        "        64, (3, 3), padding='same', activation='relu'),\n",
        "    tf.keras.layers.MaxPooling2D((2, 2)),\n",
        "    tf.keras.layers.Dropout(rate=0.5),\n",
        "\n",
        "    tf.keras.layers.Conv2D(\n",
        "        128, (3, 3), padding='same', activation='relu'),\n",
        "    tf.keras.layers.MaxPooling2D((2, 2)),\n",
        "    tf.keras.layers.Dropout(rate=0.5),\n",
        "    tf.keras.layers.Conv2D(\n",
        "        256, (3, 3), padding='same', activation='relu'),\n",
        "    tf.keras.layers.MaxPooling2D((2, 2)),\n",
        "\n",
        "    tf.keras.layers.Conv2D(\n",
        "        512, (3, 3), padding='same', activation='relu'),\n",
        "    tf.keras.layers.GlobalAveragePooling2D(),\n",
        "    tf.keras.layers.Dense(1, activation=None)\n",
        "  ])\n",
        "  model.compute_output_shape(input_shape=(None, 64, 64, 3))\n",
        "  model.build(input_shape=(None, 64, 64, 3))\n",
        "  model.compile(optimizer=tf.keras.optimizers.Adam(),\n",
        "    loss=tf.keras.losses.BinaryCrossentropy(from_logits=True),\n",
        "    metrics=['accuracy']\n",
        ")\n",
        "  \n",
        "  filepath=\"checkpoints\"\n",
        "  checkpoint = ModelCheckpoint(filepath, monitor='val_accuracy', verbose=1, save_best_only=True, mode='max')\n",
        "  es = EarlyStopping(monitor='val_accuracy', patience=5)\n",
        "  callbacks_list = [checkpoint, es]\n",
        "  # Fit the model\n",
        "  \n",
        "  history = model.fit(train_ds, validation_data=val_ds, callbacks=[checkpoint, es],\n",
        "    epochs=1000)\n",
        "  model.save('/content/model')"
      ]
    },
    {
      "cell_type": "code",
      "execution_count": null,
      "metadata": {
        "id": "6BR8Qho6ZlkZ"
      },
      "outputs": [],
      "source": [
        "hist = history.history\n",
        "x_arr = np.arange(len(hist['loss'])) + 1\n",
        "fig = plt.figure(figsize=(12, 4))\n",
        "ax = fig.add_subplot(1, 2, 1)\n",
        "ax.plot(x_arr, hist['loss'], '-o', label='Train loss')\n",
        "ax.plot(x_arr, hist['val_loss'], '--<', label='Validation loss')\n",
        "ax.legend(fontsize=15)\n",
        "ax.set_xlabel('Epoch', size=15)\n",
        "ax.set_ylabel('Loss', size=15)\n",
        "ax = fig.add_subplot(1, 2, 2)\n",
        "ax.plot(x_arr, hist['accuracy'], '-o', label='Train acc.')\n",
        "ax.plot(x_arr, hist['val_accuracy'], '--<', label='Validation acc.')\n",
        "ax.legend(fontsize=15)\n",
        "ax.set_xlabel('Epoch', size=15)\n",
        "ax.set_ylabel('Accuracy', size=15)\n",
        "plt.show()"
      ]
    },
    {
      "cell_type": "markdown",
      "source": [
        "TESTING"
      ],
      "metadata": {
        "id": "gtiKTvMw7yjj"
      }
    },
    {
      "cell_type": "code",
      "execution_count": null,
      "metadata": {
        "id": "pe-64J180SLH"
      },
      "outputs": [],
      "source": [
        "model.evaluate(test_ds)"
      ]
    },
    {
      "cell_type": "code",
      "source": [
        "model.predict(test_ds.take(1))"
      ],
      "metadata": {
        "id": "rZFwJyHZ22AP"
      },
      "execution_count": null,
      "outputs": []
    },
    {
      "cell_type": "code",
      "source": [
        "model = tf.keras.models.load_model('/content/drive/MyDrive/Deepfake/Models/Model_1/model/')\n",
        "model.summary()"
      ],
      "metadata": {
        "id": "AQnBZWwzkvW6"
      },
      "execution_count": null,
      "outputs": []
    },
    {
      "cell_type": "code",
      "source": [
        "yhat_probs = model.predict(test_ds, verbose=0)\n",
        "yhat_classes = model.predict_classes(test_ds, verbose=0)"
      ],
      "metadata": {
        "id": "VrOif4kMlklB"
      },
      "execution_count": null,
      "outputs": []
    },
    {
      "cell_type": "code",
      "source": [
        "yhat_probs = yhat_probs[:, 0]\n",
        "yhat_classes = yhat_classes[:, 0]"
      ],
      "metadata": {
        "id": "Rtce0w0vmn-T"
      },
      "execution_count": null,
      "outputs": []
    },
    {
      "cell_type": "code",
      "source": [
        "print(yhat_probs)"
      ],
      "metadata": {
        "id": "XrLvC_wZpm3c"
      },
      "execution_count": null,
      "outputs": []
    },
    {
      "cell_type": "markdown",
      "source": [
        "MODEL METRICS"
      ],
      "metadata": {
        "id": "CbQQShgz72mZ"
      }
    },
    {
      "cell_type": "code",
      "source": [
        "from sklearn.metrics import accuracy_score\n",
        "from sklearn.metrics import precision_score\n",
        "from sklearn.metrics import recall_score\n",
        "from sklearn.metrics import f1_score\n",
        "from sklearn.metrics import cohen_kappa_score\n",
        "from sklearn.metrics import roc_auc_score\n",
        "from sklearn.metrics import confusion_matrix"
      ],
      "metadata": {
        "id": "aPQDNRkRnG63"
      },
      "execution_count": null,
      "outputs": []
    },
    {
      "cell_type": "code",
      "source": [
        "# accuracy: (tp + tn) / (p + n)\n",
        "accuracy = accuracy_score(test_ds, yhat_classes)\n",
        "print('Accuracy: %f' % accuracy)\n",
        "# precision tp / (tp + fp)\n",
        "precision = precision_score(test_ds, yhat_classes)\n",
        "print('Precision: %f' % precision)\n",
        "# recall: tp / (tp + fn)\n",
        "recall = recall_score(test_ds, yhat_classes)\n",
        "print('Recall: %f' % recall)\n",
        "# f1: 2 tp / (2 tp + fp + fn)\n",
        "f1 = f1_score(test_ds, yhat_classes)\n",
        "print('F1 score: %f' % f1)"
      ],
      "metadata": {
        "id": "sswiQEAQmsQO"
      },
      "execution_count": null,
      "outputs": []
    },
    {
      "cell_type": "code",
      "source": [
        "kappa = cohen_kappa_score(test_ds, yhat_classes)\n",
        "print('Cohens kappa: %f' % kappa)\n",
        "# ROC AUC\n",
        "auc = roc_auc_score(test_ds, yhat_probs)\n",
        "print('ROC AUC: %f' % auc)\n",
        "# confusion matrix\n",
        "matrix = confusion_matrix(test_ds, yhat_classes)\n",
        "print(matrix)"
      ],
      "metadata": {
        "id": "1GzCjW6RnU_b"
      },
      "execution_count": null,
      "outputs": []
    },
    {
      "cell_type": "code",
      "source": [
        "loss, accuracy, f1_score, precision, recall = model.evaluate(test_ds, verbose=0)"
      ],
      "metadata": {
        "id": "BgoQgzYLpXlc"
      },
      "execution_count": null,
      "outputs": []
    },
    {
      "cell_type": "code",
      "source": [
        "print(loss, accuracy, f1_score, precision, recall)"
      ],
      "metadata": {
        "id": "K8LBoxhcpfKB"
      },
      "execution_count": null,
      "outputs": []
    }
  ],
  "metadata": {
    "colab": {
      "provenance": [],
      "gpuType": "T4"
    },
    "gpuClass": "standard",
    "kernelspec": {
      "display_name": "Python 3",
      "name": "python3"
    },
    "language_info": {
      "name": "python"
    },
    "accelerator": "GPU"
  },
  "nbformat": 4,
  "nbformat_minor": 0
}